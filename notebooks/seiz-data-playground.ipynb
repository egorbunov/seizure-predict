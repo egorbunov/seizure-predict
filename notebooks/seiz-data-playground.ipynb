{
 "cells": [
  {
   "cell_type": "code",
   "execution_count": 6,
   "metadata": {
    "collapsed": true
   },
   "outputs": [
    {
     "name": "stdout",
     "output_type": "stream",
     "text": [
      "hello\n"
     ]
    }
   ],
   "source": [
    "print(\"hello\")"
   ]
  },
  {
   "cell_type": "code",
   "execution_count": 8,
   "metadata": {},
   "outputs": [
    {
     "data": {
      "text/plain": [
       "['.IdeaIC2016.2',\n '.esd_auth',\n '.gnupg',\n '.local',\n '.dbus',\n 'dev',\n 'target',\n '.PyCharm2016.2',\n '.cabal',\n '.gradle',\n '.macromedia',\n 'java_error_in_PYCHARM.hprof',\n '.PyCharm2016.3',\n 'Videos',\n '.lesshst',\n '.sbt',\n 'Music',\n 'intel',\n '.psql_history',\n 'Desktop',\n '.esmtp_queue',\n '.atom',\n '.emacs.d',\n '.keras',\n '.java',\n 'Documents',\n 'Templates',\n '.fehbg',\n '.WebStorm2016.3',\n '.ssh',\n 'Downloads',\n 'pyenvs',\n 'bin',\n 'java_error_in_IDEA_9068.log',\n '.adobe',\n '.bash_history',\n '.theano',\n '.wget-hsts',\n 'docker',\n 'Programs',\n '.node_repl_history',\n '.viminfo',\n '.gnome',\n '.install4j',\n 'Dropbox',\n '.npm',\n '.CLion2016.3',\n '.hplip',\n '.pki',\n '.bash_logout',\n '.m2',\n '.git-credentials',\n '.config',\n 'Pictures',\n '.gitconfig',\n 'share',\n '.bashrc.backup',\n '.WebStorm2016.2',\n '.ghc',\n '.IdeaIC2016.3',\n 'thirdparty',\n '.bash_profile',\n '.python_history',\n '.vimrc',\n '.TelegramDesktop',\n 'workspace',\n '.ipython',\n 'virt_images',\n '.node-gyp',\n '.Skype',\n '.ivy2',\n '.cache',\n '.thumbnails',\n '.ICEauthority',\n '.swt',\n 'Public',\n '.gimp-2.8',\n '.mozilla',\n '.parallel',\n '.vim',\n '.idea-build',\n '.bashrc',\n 'nltk_data',\n '.fonts',\n '.emacs',\n '.jupyter',\n '.CLion2016.2',\n 'VirtualBox VMs',\n '.oracle_jre_usage',\n '.gem',\n 'Visual_Paradigm_13.2',\n '.texlive2015',\n '.scala_history']"
      ]
     },
     "execution_count": 8,
     "metadata": {},
     "output_type": "execute_result"
    }
   ],
   "source": [
    "import os\n",
    "os.getcwd()\n",
    "os.listdir(os.getcwd())"
   ]
  },
  {
   "cell_type": "code",
   "execution_count": 4,
   "metadata": {},
   "outputs": [
    {
     "name": "stdout",
     "output_type": "stream",
     "text": [
      "HELLO\n"
     ]
    }
   ],
   "source": [
    ""
   ]
  },
  {
   "cell_type": "code",
   "execution_count": null,
   "metadata": {},
   "outputs": [],
   "source": [
    ""
   ]
  }
 ],
 "metadata": {
  "kernelspec": {
   "display_name": "Python 2",
   "language": "python",
   "name": "python2"
  },
  "language_info": {
   "codemirror_mode": {
    "name": "ipython",
    "version": 2.0
   },
   "file_extension": ".py",
   "mimetype": "text/x-python",
   "name": "python",
   "nbconvert_exporter": "python",
   "pygments_lexer": "ipython2",
   "version": "2.7.6"
  }
 },
 "nbformat": 4,
 "nbformat_minor": 0
}